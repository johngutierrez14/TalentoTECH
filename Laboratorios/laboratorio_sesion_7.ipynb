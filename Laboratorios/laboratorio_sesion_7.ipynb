{
 "cells": [
  {
   "cell_type": "markdown",
   "id": "8cdf9175-6e5c-41ee-80cf-4fd0e13d607d",
   "metadata": {},
   "source": [
    "# Laboratorio 2\n",
    "# Parte 1\n",
    "El primer ejercicio de práctica deberás realizar el código usando las funciones y bibliotecas Panda en Python, con el respectivo grafico según el caso, escribir el respectivo código y mostrar el resultado, aplicar los temas vistos en clase.\n",
    "1. Ejercicio de práctica 1.\n",
    "- Crear un DataFrame con los nombres, profesión y países de 8 personas, y luego imprimir el DataFrame"
   ]
  },
  {
   "cell_type": "code",
   "execution_count": 3,
   "id": "9ddf6d9f-f453-418c-85f3-17089e053ed1",
   "metadata": {},
   "outputs": [
    {
     "name": "stdout",
     "output_type": "stream",
     "text": [
      "     Nombre  Edad       Ciudad\n",
      "0    Fabian    28       Bogota\n",
      "1       Ana    24      Pereira\n",
      "2  Patricia    35  Bucaramanga\n",
      "3     Linda    32         Cali\n"
     ]
    }
   ],
   "source": [
    "import pandas as pd\n",
    "data = {\n",
    "    'Nombre':['Fabian', 'Ana', 'Patricia', 'Linda'],\n",
    "    'Edad': [28, 24, 35, 32],\n",
    "    'Ciudad': ['Bogota', 'Pereira', 'Bucaramanga', 'Cali']\n",
    "}\n",
    "df = pd.DataFrame(data)\n",
    "print(df)"
   ]
  },
  {
   "cell_type": "markdown",
   "id": "2263360d-7f05-4162-b817-32db9e7fa800",
   "metadata": {},
   "source": [
    "- Cargar un archivo CSV (puedes usar un archivo de ejemplo en tu entorno) y mostrar las \n",
    "primeras 5 filas."
   ]
  },
  {
   "cell_type": "code",
   "execution_count": 4,
   "id": "49748f6e-bd37-4f41-a924-f83f00cbb157",
   "metadata": {},
   "outputs": [
    {
     "data": {
      "text/html": [
       "<div>\n",
       "<style scoped>\n",
       "    .dataframe tbody tr th:only-of-type {\n",
       "        vertical-align: middle;\n",
       "    }\n",
       "\n",
       "    .dataframe tbody tr th {\n",
       "        vertical-align: top;\n",
       "    }\n",
       "\n",
       "    .dataframe thead th {\n",
       "        text-align: right;\n",
       "    }\n",
       "</style>\n",
       "<table border=\"1\" class=\"dataframe\">\n",
       "  <thead>\n",
       "    <tr style=\"text-align: right;\">\n",
       "      <th></th>\n",
       "      <th>Duracion</th>\n",
       "      <th>Pulso</th>\n",
       "      <th>Maxpulso</th>\n",
       "      <th>Calorias</th>\n",
       "    </tr>\n",
       "  </thead>\n",
       "  <tbody>\n",
       "    <tr>\n",
       "      <th>0</th>\n",
       "      <td>60</td>\n",
       "      <td>110</td>\n",
       "      <td>130</td>\n",
       "      <td>409.1</td>\n",
       "    </tr>\n",
       "    <tr>\n",
       "      <th>1</th>\n",
       "      <td>60</td>\n",
       "      <td>117</td>\n",
       "      <td>145</td>\n",
       "      <td>479.0</td>\n",
       "    </tr>\n",
       "    <tr>\n",
       "      <th>2</th>\n",
       "      <td>60</td>\n",
       "      <td>103</td>\n",
       "      <td>135</td>\n",
       "      <td>340.0</td>\n",
       "    </tr>\n",
       "    <tr>\n",
       "      <th>3</th>\n",
       "      <td>45</td>\n",
       "      <td>109</td>\n",
       "      <td>175</td>\n",
       "      <td>282.4</td>\n",
       "    </tr>\n",
       "    <tr>\n",
       "      <th>4</th>\n",
       "      <td>45</td>\n",
       "      <td>117</td>\n",
       "      <td>148</td>\n",
       "      <td>406.0</td>\n",
       "    </tr>\n",
       "    <tr>\n",
       "      <th>...</th>\n",
       "      <td>...</td>\n",
       "      <td>...</td>\n",
       "      <td>...</td>\n",
       "      <td>...</td>\n",
       "    </tr>\n",
       "    <tr>\n",
       "      <th>164</th>\n",
       "      <td>60</td>\n",
       "      <td>105</td>\n",
       "      <td>140</td>\n",
       "      <td>290.8</td>\n",
       "    </tr>\n",
       "    <tr>\n",
       "      <th>165</th>\n",
       "      <td>60</td>\n",
       "      <td>110</td>\n",
       "      <td>145</td>\n",
       "      <td>300.0</td>\n",
       "    </tr>\n",
       "    <tr>\n",
       "      <th>166</th>\n",
       "      <td>60</td>\n",
       "      <td>115</td>\n",
       "      <td>145</td>\n",
       "      <td>310.2</td>\n",
       "    </tr>\n",
       "    <tr>\n",
       "      <th>167</th>\n",
       "      <td>75</td>\n",
       "      <td>120</td>\n",
       "      <td>150</td>\n",
       "      <td>320.4</td>\n",
       "    </tr>\n",
       "    <tr>\n",
       "      <th>168</th>\n",
       "      <td>75</td>\n",
       "      <td>125</td>\n",
       "      <td>150</td>\n",
       "      <td>330.4</td>\n",
       "    </tr>\n",
       "  </tbody>\n",
       "</table>\n",
       "<p>169 rows × 4 columns</p>\n",
       "</div>"
      ],
      "text/plain": [
       "     Duracion  Pulso  Maxpulso  Calorias\n",
       "0          60    110       130     409.1\n",
       "1          60    117       145     479.0\n",
       "2          60    103       135     340.0\n",
       "3          45    109       175     282.4\n",
       "4          45    117       148     406.0\n",
       "..        ...    ...       ...       ...\n",
       "164        60    105       140     290.8\n",
       "165        60    110       145     300.0\n",
       "166        60    115       145     310.2\n",
       "167        75    120       150     320.4\n",
       "168        75    125       150     330.4\n",
       "\n",
       "[169 rows x 4 columns]"
      ]
     },
     "execution_count": 4,
     "metadata": {},
     "output_type": "execute_result"
    }
   ],
   "source": [
    "import pandas as pd\n",
    "df = pd.read_csv(\"data.csv\")\n",
    "df"
   ]
  },
  {
   "cell_type": "markdown",
   "id": "299920be-e39f-4b86-9af4-a0cd446a54cc",
   "metadata": {},
   "source": [
    "- Generar un DataFrame con 100 filas y 8 columnas de valores aleatorios, y luego mostrar un resumen estadístico de los datos."
   ]
  },
  {
   "cell_type": "code",
   "execution_count": 6,
   "id": "977a9688-1939-427a-8cf2-c7e26d6ef4f2",
   "metadata": {},
   "outputs": [
    {
     "data": {
      "text/html": [
       "<div>\n",
       "<style scoped>\n",
       "    .dataframe tbody tr th:only-of-type {\n",
       "        vertical-align: middle;\n",
       "    }\n",
       "\n",
       "    .dataframe tbody tr th {\n",
       "        vertical-align: top;\n",
       "    }\n",
       "\n",
       "    .dataframe thead th {\n",
       "        text-align: right;\n",
       "    }\n",
       "</style>\n",
       "<table border=\"1\" class=\"dataframe\">\n",
       "  <thead>\n",
       "    <tr style=\"text-align: right;\">\n",
       "      <th></th>\n",
       "      <th>Duracion</th>\n",
       "      <th>Pulso</th>\n",
       "      <th>Maxpulso</th>\n",
       "      <th>Calorias</th>\n",
       "    </tr>\n",
       "  </thead>\n",
       "  <tbody>\n",
       "    <tr>\n",
       "      <th>0</th>\n",
       "      <td>60</td>\n",
       "      <td>110</td>\n",
       "      <td>130</td>\n",
       "      <td>409.1</td>\n",
       "    </tr>\n",
       "    <tr>\n",
       "      <th>1</th>\n",
       "      <td>60</td>\n",
       "      <td>117</td>\n",
       "      <td>145</td>\n",
       "      <td>479.0</td>\n",
       "    </tr>\n",
       "    <tr>\n",
       "      <th>2</th>\n",
       "      <td>60</td>\n",
       "      <td>103</td>\n",
       "      <td>135</td>\n",
       "      <td>340.0</td>\n",
       "    </tr>\n",
       "    <tr>\n",
       "      <th>3</th>\n",
       "      <td>45</td>\n",
       "      <td>109</td>\n",
       "      <td>175</td>\n",
       "      <td>282.4</td>\n",
       "    </tr>\n",
       "    <tr>\n",
       "      <th>4</th>\n",
       "      <td>45</td>\n",
       "      <td>117</td>\n",
       "      <td>148</td>\n",
       "      <td>406.0</td>\n",
       "    </tr>\n",
       "    <tr>\n",
       "      <th>...</th>\n",
       "      <td>...</td>\n",
       "      <td>...</td>\n",
       "      <td>...</td>\n",
       "      <td>...</td>\n",
       "    </tr>\n",
       "    <tr>\n",
       "      <th>164</th>\n",
       "      <td>60</td>\n",
       "      <td>105</td>\n",
       "      <td>140</td>\n",
       "      <td>290.8</td>\n",
       "    </tr>\n",
       "    <tr>\n",
       "      <th>165</th>\n",
       "      <td>60</td>\n",
       "      <td>110</td>\n",
       "      <td>145</td>\n",
       "      <td>300.4</td>\n",
       "    </tr>\n",
       "    <tr>\n",
       "      <th>166</th>\n",
       "      <td>60</td>\n",
       "      <td>115</td>\n",
       "      <td>145</td>\n",
       "      <td>310.2</td>\n",
       "    </tr>\n",
       "    <tr>\n",
       "      <th>167</th>\n",
       "      <td>75</td>\n",
       "      <td>120</td>\n",
       "      <td>150</td>\n",
       "      <td>320.4</td>\n",
       "    </tr>\n",
       "    <tr>\n",
       "      <th>168</th>\n",
       "      <td>75</td>\n",
       "      <td>125</td>\n",
       "      <td>150</td>\n",
       "      <td>330.4</td>\n",
       "    </tr>\n",
       "  </tbody>\n",
       "</table>\n",
       "<p>169 rows × 4 columns</p>\n",
       "</div>"
      ],
      "text/plain": [
       "     Duracion  Pulso  Maxpulso  Calorias\n",
       "0          60    110       130     409.1\n",
       "1          60    117       145     479.0\n",
       "2          60    103       135     340.0\n",
       "3          45    109       175     282.4\n",
       "4          45    117       148     406.0\n",
       "..        ...    ...       ...       ...\n",
       "164        60    105       140     290.8\n",
       "165        60    110       145     300.4\n",
       "166        60    115       145     310.2\n",
       "167        75    120       150     320.4\n",
       "168        75    125       150     330.4\n",
       "\n",
       "[169 rows x 4 columns]"
      ]
     },
     "execution_count": 6,
     "metadata": {},
     "output_type": "execute_result"
    }
   ],
   "source": [
    "import pandas as pd\n",
    "df = pd.read_json(\"data.json\")\n",
    "df"
   ]
  },
  {
   "cell_type": "markdown",
   "id": "c5f07e62-5b61-43ed-aea5-471a769d3d86",
   "metadata": {},
   "source": [
    "# Parte 2\n",
    "El segundo ejercicio de práctica deberás realizar el código usando las funciones y bibliotecas Numpy en Python, con el respectivo grafico según los escenarios, escribir el respectivo código y mostrar el resultado, aplicar los temas vistos en clase.\n",
    "\n",
    "2. Ejercicio de práctica 2."
   ]
  },
  {
   "cell_type": "markdown",
   "id": "fb3b7d39-8550-4828-9397-4f9770ade5c3",
   "metadata": {},
   "source": [
    "- Crear un array de números del 1 al 10 y mostrar la suma, la media, y el valor máximo."
   ]
  },
  {
   "cell_type": "code",
   "execution_count": 11,
   "id": "ad8f5fbf-4fc3-49e2-bdf5-0d79c7d4f1f5",
   "metadata": {},
   "outputs": [
    {
     "name": "stdout",
     "output_type": "stream",
     "text": [
      "[ 1  2  3  4  5  6  7  8  9 10]\n",
      "Suma:  55\n",
      "Media:  5.5\n",
      "Máximo:  10\n"
     ]
    }
   ],
   "source": [
    "import numpy as np\n",
    "array = np.arange(1,11)\n",
    "print(array)\n",
    "print(\"Suma: \",array.sum())\n",
    "print(\"Media: \",array.mean())\n",
    "print(\"Máximo: \",array.max())"
   ]
  },
  {
   "cell_type": "markdown",
   "id": "3038b073-facd-4661-840b-e7976ecbf9d8",
   "metadata": {},
   "source": [
    "- Crear un array de 3x4 lleno de ceros y luego cambiar su forma a 2x6"
   ]
  },
  {
   "cell_type": "code",
   "execution_count": 12,
   "id": "fe1cad5b-2d3d-497c-8406-d0f855b003ee",
   "metadata": {},
   "outputs": [
    {
     "name": "stdout",
     "output_type": "stream",
     "text": [
      "Array original de (3x4)\n",
      "[[0. 0. 0. 0.]\n",
      " [0. 0. 0. 0.]\n",
      " [0. 0. 0. 0.]]\n",
      "\n",
      "Array despues de reshape (2x6)\n",
      "[[0. 0. 0. 0. 0. 0.]\n",
      " [0. 0. 0. 0. 0. 0.]]\n"
     ]
    }
   ],
   "source": [
    "import numpy as np\n",
    "array = np.zeros((3,4))\n",
    "print(\"Array original de (3x4)\")\n",
    "print(array)\n",
    "print()\n",
    "array=array.reshape(2,6)\n",
    "print(\"Array despues de reshape (2x6)\")\n",
    "print(array)"
   ]
  },
  {
   "cell_type": "markdown",
   "id": "2ee229d0-c69b-44f0-b131-01b5801c7d32",
   "metadata": {},
   "source": [
    "- Generar una matriz aleatoria de 3x3 y calcular su transpuesta."
   ]
  },
  {
   "cell_type": "code",
   "execution_count": 13,
   "id": "443670fc-743b-4246-b20a-4bd7048c6a5c",
   "metadata": {},
   "outputs": [
    {
     "name": "stdout",
     "output_type": "stream",
     "text": [
      "Matriz Original\n",
      "[[0.71526369 0.44060191 0.81501657]\n",
      " [0.82208701 0.80330074 0.02435778]\n",
      " [0.22042624 0.46145889 0.55068146]]\n",
      "\n",
      "Matriz transpuesta\n",
      "[[0.71526369 0.82208701 0.22042624]\n",
      " [0.44060191 0.80330074 0.46145889]\n",
      " [0.81501657 0.02435778 0.55068146]]\n"
     ]
    }
   ],
   "source": [
    "import numpy as np\n",
    "array=np.random.rand(3,3)\n",
    "print(\"Matriz Original\")\n",
    "print(array)\n",
    "print()\n",
    "traspuesta=array.T\n",
    "print(\"Matriz transpuesta\")\n",
    "print(traspuesta)"
   ]
  },
  {
   "cell_type": "markdown",
   "id": "b282b80c-2b59-44cf-b637-7683e290f37b",
   "metadata": {},
   "source": [
    "- Concatenar dos arrays de NumPy, cada uno con 5 valores, y luego imprimir el array concatenado"
   ]
  },
  {
   "cell_type": "code",
   "execution_count": 14,
   "id": "d141099c-f4b5-4865-989f-43ed1a50b27c",
   "metadata": {},
   "outputs": [
    {
     "name": "stdout",
     "output_type": "stream",
     "text": [
      "Array concatenado  [ 1  2  3  4  5  6  7  8  9 10]\n"
     ]
    }
   ],
   "source": [
    "import pandas as pd\n",
    "import numpy as np\n",
    "a=np.array([1,2,3,4,5])\n",
    "b=np.array([6,7,8,9,10])\n",
    "arr_concatenado=np.concatenate((a,b))\n",
    "print(\"Array concatenado \", arr_concatenado)"
   ]
  }
 ],
 "metadata": {
  "kernelspec": {
   "display_name": "Python 3 (ipykernel)",
   "language": "python",
   "name": "python3"
  },
  "language_info": {
   "codemirror_mode": {
    "name": "ipython",
    "version": 3
   },
   "file_extension": ".py",
   "mimetype": "text/x-python",
   "name": "python",
   "nbconvert_exporter": "python",
   "pygments_lexer": "ipython3",
   "version": "3.12.7"
  }
 },
 "nbformat": 4,
 "nbformat_minor": 5
}
