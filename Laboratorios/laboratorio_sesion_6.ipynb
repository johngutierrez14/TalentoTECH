{
 "cells": [
  {
   "cell_type": "markdown",
   "id": "1a856807-54df-40e0-b7fd-c01e6d11f7f4",
   "metadata": {},
   "source": [
    "#Laboratorio 6\n",
    "1.Algoritmo para Preparar un Té: Este algoritmo describe los pasos para preparar un té y lo implementamos en Python.\n",
    "Algoritmo para Preparar una Taza de Té\n",
    "\t\n",
    "1. Calentar el agua:\tVerter la cantidad deseada de agua fresca en un recipiente apto para calentar.\t\n",
    "                        Llevar el agua a ebullición. \t\n",
    "2. Preparar la taza:\tMientras el agua se calienta, eligir taza \t\n",
    "3. Añadir el té:\tColocar una bolsita de té o la cantidad adecuada de hojas de té sueltas en la taza. \t\n",
    "4. Verter el agua caliente:\tUna vez que el agua haya alcanzado la temperatura deseada, verterla cuidadosamente sobre la bolsita o las hojas de té en la taza.\t\n",
    "5. Dejar infusionar:\tDejar que el té se infusione durante el tiempo recomendado para el tipo específico de té.\t\n",
    "6. Retirar la bolsita o el infusor:\tUna vez que el té haya alcanzado la intensidad deseada, retirar la bolsita de té o el infusor con las hojas sueltas.\t\n",
    "7.Disfrutar:\t¡Tu taza de té está lista! Disfrútala mientras está caliente.\t\n"
   ]
  },
  {
   "cell_type": "markdown",
   "id": "69246450-87ec-4580-9ffc-12fc3cbdbcb2",
   "metadata": {},
   "source": [
    "2. Cálculo del Promedio de Notas: Utilizar variables y tipos de datos para almacenar las notas de un estudiante, y un operador aritmético para calcular el promedio."
   ]
  },
  {
   "cell_type": "code",
   "execution_count": null,
   "id": "c9d61589-8bb9-410e-ae4e-cda1ce376cd0",
   "metadata": {},
   "outputs": [],
   "source": [
    "def promedio_notas():\n",
    "    nota_1 = float(input(\"Ingrese primera nota: \"))\n",
    "    nota_2 = float(input(\"Ingrese segunda nota: \"))\n",
    "    nota_3 = float(input(\"Ingrese tercera nota: \"))\n",
    "    promedio = (nota_1 + nota_2 + nota_3)/3\n",
    "    print(f\"El promedio de notas es: {promedio:.2f}\")\n",
    "\n",
    "promedio_notas()"
   ]
  },
  {
   "cell_type": "markdown",
   "id": "48092e2f-69aa-4358-a32e-be7f73d1c189",
   "metadata": {},
   "source": [
    "3. Verificar si un Número es Par o Impar: Utiliza condicionales para verificar si un número es par o impar, y operadores para realizar el cálculo."
   ]
  },
  {
   "cell_type": "code",
   "execution_count": null,
   "id": "7c7c5fa7-fec6-419d-ac9e-41d993804b76",
   "metadata": {},
   "outputs": [],
   "source": [
    "import random\n",
    "\n",
    "def es_par_o_impart():\n",
    "    aleatorio = random.randint(1,100)\n",
    "    print(\"Número generado: \",aleatorio)\n",
    "\n",
    "    if aleatorio % 2 == 0:\n",
    "        print(\"El número es par\")\n",
    "    else:\n",
    "        print(\"El número es impar\")\n",
    "\n",
    "es_par_o_impart()\n"
   ]
  },
  {
   "cell_type": "markdown",
   "id": "c6c22a71-3161-49c3-ba9c-32d2b3f1c4f3",
   "metadata": {},
   "source": [
    "4. Bucle for para Imprimir Números del 1 al 5: Usar un bucle for para mostrar los números del 1 al 5 y combinar los operadores aritméticos para mostrar si son pares o impares."
   ]
  },
  {
   "cell_type": "code",
   "execution_count": null,
   "id": "a42db606-6262-4973-90a6-17538b5c7ac4",
   "metadata": {},
   "outputs": [],
   "source": [
    "def imprimir_numeros():\n",
    "    for numero in range(1,6):\n",
    "        if numero % 2 == 0:\n",
    "            print(f\"{numero} es par\")\n",
    "        else:\n",
    "            print(f\"{numero} es impar\")\n",
    "\n",
    "imprimir_numeros()"
   ]
  },
  {
   "cell_type": "markdown",
   "id": "be28d827-e6d3-47e4-815e-4ce73bd7569b",
   "metadata": {},
   "source": [
    "5. Convertir Grados Celsius a Fahrenheit: Usar una función para convertir grados Celsius a Fahrenheit. La fórmula para la conversión es Fahrenheit = (Celsius * 9/5) + 32."
   ]
  },
  {
   "cell_type": "code",
   "execution_count": null,
   "id": "d8362729-5a42-4abf-a217-a264083f9eb1",
   "metadata": {},
   "outputs": [],
   "source": [
    "def convertir_celsius_a_fahrenheit():\n",
    "    grados = float(input(\"Ingrese los grados Celsius a convertir: \"))\n",
    "    convertir = (grados*9/5)+32\n",
    "    print(f\"Son {convertir} Fahrenheit\")\n",
    "\n",
    "convertir_celsius_a_fahrenheit()"
   ]
  },
  {
   "cell_type": "markdown",
   "id": "1ab6f26c-27c3-4813-89cf-003f7f0f60b2",
   "metadata": {},
   "source": [
    "6. Contar la Cantidad de Vocales en una Cadena de Texto: Utilizar un bucle for y una condicional para contar cuántas vocales hay en una cadena de texto ingresada por el usuario."
   ]
  },
  {
   "cell_type": "code",
   "execution_count": 22,
   "id": "58c20b21-dd82-49d0-8a42-b3ba383205ca",
   "metadata": {},
   "outputs": [
    {
     "name": "stdin",
     "output_type": "stream",
     "text": [
      "Escriba la frase:  mamá\n"
     ]
    },
    {
     "name": "stdout",
     "output_type": "stream",
     "text": [
      "La frase tiene 2 vocales.\n"
     ]
    }
   ],
   "source": [
    "def contar_vocales(frase):\n",
    "    vocales = \"aeiouAEIOUÁÉÍÓÚáéíóú\"\n",
    "    contador = 0\n",
    "    for letra in frase:\n",
    "        if letra in vocales:\n",
    "            contador += 1\n",
    "    print(f\"La frase tiene {contador} vocales.\")\n",
    "\n",
    "frase_usuario = input(\"Escriba la frase: \")\n",
    "contar_vocales(frase_usuario)"
   ]
  },
  {
   "cell_type": "markdown",
   "id": "44448e81-5eaa-4c13-aaa4-78287a81dd58",
   "metadata": {},
   "source": [
    "7. Calcular el Factorial de un Número: Usar un bucle while para calcular el factorial de un número ingresado por el usuario. El factorial de un número n (n!) es el producto de todos los números enteros positivos menores o iguales a n."
   ]
  },
  {
   "cell_type": "code",
   "execution_count": 23,
   "id": "ffd44fbe-6850-422a-b127-c56ff1e38c65",
   "metadata": {},
   "outputs": [
    {
     "name": "stdin",
     "output_type": "stream",
     "text": [
      "Ingrese un número entero positivo:  6\n"
     ]
    },
    {
     "name": "stdout",
     "output_type": "stream",
     "text": [
      "El factorial de 6 es 720\n"
     ]
    }
   ],
   "source": [
    "def calcular_factorial():\n",
    "    numero = int(input(\"Ingrese un número entero positivo: \"))\n",
    "    if numero < 0:\n",
    "        print(\"El factorial no está definido para números negativos.\")\n",
    "        return\n",
    "\n",
    "    factorial = 1\n",
    "    contador = 1\n",
    "\n",
    "    while contador <= numero:\n",
    "        factorial *= contador\n",
    "        contador += 1\n",
    "\n",
    "    print(f\"El factorial de {numero} es {factorial}\")\n",
    "\n",
    "calcular_factorial()\n"
   ]
  }
 ],
 "metadata": {
  "kernelspec": {
   "display_name": "Python 3 (ipykernel)",
   "language": "python",
   "name": "python3"
  },
  "language_info": {
   "codemirror_mode": {
    "name": "ipython",
    "version": 3
   },
   "file_extension": ".py",
   "mimetype": "text/x-python",
   "name": "python",
   "nbconvert_exporter": "python",
   "pygments_lexer": "ipython3",
   "version": "3.12.7"
  }
 },
 "nbformat": 4,
 "nbformat_minor": 5
}
